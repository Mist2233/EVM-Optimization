{
 "cells": [
  {
   "cell_type": "code",
   "execution_count": 2,
   "metadata": {},
   "outputs": [
    {
     "name": "stdout",
     "output_type": "stream",
     "text": [
      "0xfffffaaa\n"
     ]
    }
   ],
   "source": [
    "a = 0xffffffff\n",
    "b = 1365\n",
    "\n",
    "print(hex(a ^ b))"
   ]
  },
  {
   "cell_type": "code",
   "execution_count": 16,
   "metadata": {},
   "outputs": [
    {
     "name": "stdout",
     "output_type": "stream",
     "text": [
      "<class 'str'>\n",
      "b'\\x92\\x87\\xda0[\\xb9\\\\i\\xc3\\xb9\\xfb\\xdfx\\xb3\\xaak\\xa2\\xf5\\xf1\\x91\\x92\\xa1j\\xd2I@\\x7f\\xecJ{6\\xa3'\n"
     ]
    }
   ],
   "source": [
    "from eth.chains.base import MiningChain\n",
    "from eth.db.atomic import AtomicDB\n",
    "from eth.vm.forks import LATEST_VM  # 或 BerlinTransaction 等，根据 fork\n",
    "from eth_utils import to_canonical_address\n",
    "from eth_account import Account\n",
    "from eth_keys import keys\n",
    "from eth_utils import decode_hex, keccak, to_checksum_address\n",
    "from eth_account import Account\n",
    "\n",
    "# 创建一个新的账户及私钥\n",
    "new_account = Account.create(\"20250323\")\n",
    "print(type(new_account.address))\n",
    "print(new_account.key)"
   ]
  },
  {
   "cell_type": "code",
   "execution_count": null,
   "metadata": {},
   "outputs": [
    {
     "ename": "AttributeError",
     "evalue": "Chain classes must define the VMs in vm_configuration",
     "output_type": "error",
     "traceback": [
      "\u001b[1;31m---------------------------------------------------------------------------\u001b[0m",
      "\u001b[1;31mAttributeError\u001b[0m                            Traceback (most recent call last)",
      "Cell \u001b[1;32mIn[4], line 31\u001b[0m\n\u001b[0;32m     29\u001b[0m \u001b[38;5;66;03m# 创建本地测试链\u001b[39;00m\n\u001b[0;32m     30\u001b[0m db \u001b[38;5;241m=\u001b[39m AtomicDB()\n\u001b[1;32m---> 31\u001b[0m chain \u001b[38;5;241m=\u001b[39m \u001b[43mMiningChain\u001b[49m\u001b[38;5;241;43m.\u001b[39;49m\u001b[43mfrom_genesis\u001b[49m\u001b[43m(\u001b[49m\u001b[43mdb\u001b[49m\u001b[43m,\u001b[49m\u001b[43m \u001b[49m\u001b[43mgenesis_params\u001b[49m\u001b[43m,\u001b[49m\u001b[43m \u001b[49m\u001b[43mgenesis_state\u001b[49m\u001b[43m)\u001b[49m\n\u001b[0;32m     33\u001b[0m \u001b[38;5;66;03m# 获取 VM 并查看创世块\u001b[39;00m\n\u001b[0;32m     34\u001b[0m vm \u001b[38;5;241m=\u001b[39m chain\u001b[38;5;241m.\u001b[39mget_vm()\n",
      "File \u001b[1;32me:\\op-evm\\.venv\\lib\\site-packages\\eth\\chains\\base.py:231\u001b[0m, in \u001b[0;36mChain.from_genesis\u001b[1;34m(cls, base_db, genesis_params, genesis_state)\u001b[0m\n\u001b[0;32m    224\u001b[0m \u001b[38;5;129m@classmethod\u001b[39m\n\u001b[0;32m    225\u001b[0m \u001b[38;5;28;01mdef\u001b[39;00m\u001b[38;5;250m \u001b[39m\u001b[38;5;21mfrom_genesis\u001b[39m(\n\u001b[0;32m    226\u001b[0m     \u001b[38;5;28mcls\u001b[39m,\n\u001b[1;32m   (...)\u001b[0m\n\u001b[0;32m    229\u001b[0m     genesis_state: AccountState \u001b[38;5;241m=\u001b[39m \u001b[38;5;28;01mNone\u001b[39;00m,\n\u001b[0;32m    230\u001b[0m ) \u001b[38;5;241m-\u001b[39m\u001b[38;5;241m>\u001b[39m \u001b[38;5;124m\"\u001b[39m\u001b[38;5;124mBaseChain\u001b[39m\u001b[38;5;124m\"\u001b[39m:\n\u001b[1;32m--> 231\u001b[0m     genesis_vm_class \u001b[38;5;241m=\u001b[39m \u001b[38;5;28;43mcls\u001b[39;49m\u001b[38;5;241;43m.\u001b[39;49m\u001b[43mget_vm_class_for_block_number\u001b[49m\u001b[43m(\u001b[49m\u001b[43mBlockNumber\u001b[49m\u001b[43m(\u001b[49m\u001b[38;5;241;43m0\u001b[39;49m\u001b[43m)\u001b[49m\u001b[43m)\u001b[49m\n\u001b[0;32m    233\u001b[0m     pre_genesis_header \u001b[38;5;241m=\u001b[39m BlockHeader(difficulty\u001b[38;5;241m=\u001b[39m\u001b[38;5;241m0\u001b[39m, block_number\u001b[38;5;241m=\u001b[39m\u001b[38;5;241m-\u001b[39m\u001b[38;5;241m1\u001b[39m, gas_limit\u001b[38;5;241m=\u001b[39m\u001b[38;5;241m0\u001b[39m)\n\u001b[0;32m    234\u001b[0m     chain_context \u001b[38;5;241m=\u001b[39m ChainContext(\u001b[38;5;28mcls\u001b[39m\u001b[38;5;241m.\u001b[39mchain_id)\n",
      "File \u001b[1;32me:\\op-evm\\.venv\\lib\\site-packages\\eth\\chains\\base.py:128\u001b[0m, in \u001b[0;36mBaseChain.get_vm_class_for_block_number\u001b[1;34m(cls, block_number)\u001b[0m\n\u001b[0;32m    123\u001b[0m \u001b[38;5;129m@classmethod\u001b[39m\n\u001b[0;32m    124\u001b[0m \u001b[38;5;28;01mdef\u001b[39;00m\u001b[38;5;250m \u001b[39m\u001b[38;5;21mget_vm_class_for_block_number\u001b[39m(\n\u001b[0;32m    125\u001b[0m     \u001b[38;5;28mcls\u001b[39m, block_number: BlockNumber\n\u001b[0;32m    126\u001b[0m ) \u001b[38;5;241m-\u001b[39m\u001b[38;5;241m>\u001b[39m Type[VirtualMachineAPI]:\n\u001b[0;32m    127\u001b[0m     \u001b[38;5;28;01mif\u001b[39;00m \u001b[38;5;28mcls\u001b[39m\u001b[38;5;241m.\u001b[39mvm_configuration \u001b[38;5;129;01mis\u001b[39;00m \u001b[38;5;28;01mNone\u001b[39;00m:\n\u001b[1;32m--> 128\u001b[0m         \u001b[38;5;28;01mraise\u001b[39;00m \u001b[38;5;167;01mAttributeError\u001b[39;00m(\n\u001b[0;32m    129\u001b[0m             \u001b[38;5;124m\"\u001b[39m\u001b[38;5;124mChain classes must define the VMs in vm_configuration\u001b[39m\u001b[38;5;124m\"\u001b[39m\n\u001b[0;32m    130\u001b[0m         )\n\u001b[0;32m    132\u001b[0m     validate_block_number(block_number)\n\u001b[0;32m    133\u001b[0m     \u001b[38;5;28;01mfor\u001b[39;00m start_block, vm_class \u001b[38;5;129;01min\u001b[39;00m \u001b[38;5;28mreversed\u001b[39m(\u001b[38;5;28mcls\u001b[39m\u001b[38;5;241m.\u001b[39mvm_configuration):\n",
      "\u001b[1;31mAttributeError\u001b[0m: Chain classes must define the VMs in vm_configuration"
     ]
    }
   ],
   "source": [
    "from eth.chains.base import MiningChain\n",
    "from eth.db.atomic import AtomicDB\n",
    "from eth_utils import to_canonical_address\n",
    "\n",
    "# 定义创世区块的参数\n",
    "genesis_params = {\n",
    "    \"chain_id\": 1337,  # 设定链 ID\n",
    "    \"difficulty\": 1,\n",
    "    \"gas_limit\": 10**7,\n",
    "    \"timestamp\": 1735377287,  # 设定创世时间戳\n",
    "}\n",
    "\n",
    "# 设置初始账户状态\n",
    "genesis_state = {\n",
    "    to_canonical_address(\"0x5ff13d1ff093c87bcc6b6ece07afbea94b684dcb\"): {\n",
    "        \"balance\": 10**18,\n",
    "        \"nonce\": 0,\n",
    "        \"code\": b\"\",\n",
    "        \"storage\": {}\n",
    "    },\n",
    "    to_canonical_address(\"0x32353a6c91143bfd6c7d363b546e62a9a2489a20\"): {\n",
    "        \"balance\": 5 * 10**18,\n",
    "        \"nonce\": 0,\n",
    "        \"code\": b\"\",\n",
    "        \"storage\": {}\n",
    "    }\n",
    "}\n",
    "\n",
    "# 创建本地测试链\n",
    "db = AtomicDB()\n",
    "chain = MiningChain.from_genesis(db, genesis_params, genesis_state)\n",
    "\n",
    "# 获取 VM 并查看创世块\n",
    "vm = chain.get_vm()\n",
    "print(\"创世块:\", chain.get_canonical_head())\n"
   ]
  },
  {
   "cell_type": "code",
   "execution_count": 4,
   "metadata": {},
   "outputs": [],
   "source": [
    "import sys\n",
    "\n",
    "class SilentFileWriter:\n",
    "    def __init__(self, filename):\n",
    "        self.file = open(filename, 'w', encoding='utf-8')\n",
    "        self.original_stdout = sys.stdout  # 备份原输出流\n",
    "\n",
    "    def write(self, text):\n",
    "        # 仅写入文件，不输出到控制台\n",
    "        self.file.write(text)\n",
    "\n",
    "    def flush(self):\n",
    "        # 确保缓冲区内容写入文件\n",
    "        self.file.flush()\n",
    "\n",
    "# 使用示例：静默重定向所有输出到文件\n",
    "sys.stdout = SilentFileWriter('output.log')\n",
    "\n",
    "# 假设这是第三方包的代码\n",
    "def third_party_function():\n",
    "    print(\"这是来自第三方包的输出（控制台不会显示）\")\n",
    "\n",
    "third_party_function()\n",
    "\n",
    "# 程序结束后恢复原输出流（可选）\n",
    "sys.stdout = sys.stdout.original_stdout"
   ]
  },
  {
   "cell_type": "code",
   "execution_count": 1,
   "metadata": {},
   "outputs": [
    {
     "name": "stdout",
     "output_type": "stream",
     "text": [
      "\n",
      "=== 合约部署执行情况 ===\n",
      "OPCODE: 0x60 (PUSH1) | pc: 0 | stack: []\n",
      "OPCODE: 0x60 (PUSH1) | pc: 2 | stack: ['0x80']\n",
      "OPCODE: 0x52 (MSTORE) | pc: 4 | stack: ['0x80', '0x40']\n",
      "OPCODE: 0x60 (PUSH1) | pc: 5 | stack: []\n",
      "OPCODE: 0x36 (CALLDATASIZE) | pc: 7 | stack: ['0x04']\n",
      "OPCODE: 0x10 (LT) | pc: 8 | stack: ['0x04', '0x0']\n",
      "OPCODE: 0x61 (PUSH2) | pc: 9 | stack: ['0x1']\n",
      "OPCODE: 0x57 (JUMPI) | pc: 12 | stack: ['0x1', '0x0040']\n",
      "OPCODE: 0x5b (JUMPDEST) | pc: 64 | stack: []\n",
      "OPCODE: 0x60 (PUSH1) | pc: 65 | stack: []\n",
      "OPCODE: 0x80 (DUP1) | pc: 67 | stack: ['0x00']\n",
      "OPCODE: 0xfd (REVERT) | pc: 68 | stack: ['0x00', '0x00']\n",
      "\n",
      "合约执行返回的结果: \n",
      "\n",
      "部署成功，合约地址为： 0x6295eE1B4F6dD65047762F924Ecd367c17eaBf8f\n"
     ]
    }
   ],
   "source": [
    "import rlp\n",
    "from eth_keys import keys\n",
    "from eth_utils import decode_hex, keccak, to_checksum_address\n",
    "from eth_typing import Address\n",
    "from eth import constants\n",
    "from eth.chains.base import MiningChain\n",
    "from eth.consensus.pow import mine_pow_nonce\n",
    "from eth.vm.forks.byzantium import ByzantiumVM\n",
    "from eth.vm.forks.frontier import FrontierVM\n",
    "from eth.db.atomic import AtomicDB\n",
    "from eth.vm.forks.frontier.opcodes import FRONTIER_OPCODES\n",
    "\n",
    "# 计算合约地址\n",
    "def compute_contract_address(sender: bytes, nonce: int) -> bytes:\n",
    "    return keccak(rlp.encode([sender, nonce]))[-20:]\n",
    "\n",
    "# 1. 定义创世区块\n",
    "GENESIS_PARAMS = {\n",
    "    'difficulty': 1,\n",
    "    'gas_limit': 3141592,\n",
    "    'timestamp': 1514764800,  # 方便复现\n",
    "}\n",
    "\n",
    "# 2. 生成私钥和发送者地址\n",
    "SENDER_PRIVATE_KEY = keys.PrivateKey(\n",
    "    decode_hex('0x45a915e4d060149eb4365960e6a7a45f334393093061116b197e3240065ff2d8')\n",
    ")\n",
    "# 私钥不能泄露，所以包装一下\n",
    "SENDER = Address(SENDER_PRIVATE_KEY.public_key.to_canonical_address())\n",
    "\n",
    "# 3. 智能合约字节码\n",
    "contract_bytecode = (\n",
    "    \"6080604052600436106100405763ffffffff7c010000000000000000000000000000000000000000000000000000000060003504166379c76e1a8114610045575b600080fd5b34801561005157600080fd5b5061007373ffffffffffffffffffffffffffffffffffffffff60043516610075565b005b60005473ffffffffffffffffffffffffffffffffffffffff1633146100fb57604080517f08c379a000000000000000000000000000000000000000000000000000000000815260206004820152601360248201527f556e617574686f72697a65642063616c6c657200000000000000000000000000604482015290519081900360640190fd5b60008054604080517f70a08231000000000000000000000000000000000000000000000000000000008152306004820152905173ffffffffffffffffffffffffffffffffffffffff8086169463a9059cbb949091169285926370a0823192602480840193602093929083900390910190829087803b15801561017c57600080fd5b505af1158015610190573d6000803e3d6000fd5b505050506040513d60208110156101a657600080fd5b5051604080517c010000000000000000000000000000000000000000000000000000000063ffffffff861602815273ffffffffffffffffffffffffffffffffffffffff9093166004840152602483019190915251604480830192600092919082900301818387803b15801561021a57600080fd5b505af115801561022e573d6000803e3d6000fd5b50505050505600a165627a7a72305820300b43bef296fcf41f342266bed518123eab89057e6fc9c4fcea47cd754787bf0029\"\n",
    ")\n",
    "\n",
    "# 4. 配置链，使用 FrontierVM\n",
    "TestChain = MiningChain.configure(\n",
    "    __name__=\"TestChain\",\n",
    "    vm_configuration=((constants.GENESIS_BLOCK_NUMBER, ByzantiumVM),),\n",
    ")\n",
    "chain = TestChain.from_genesis(AtomicDB(), GENESIS_PARAMS)\n",
    "\n",
    "# 5. 获取 VM 实例\n",
    "vm = chain.get_vm()\n",
    "vm.state.enanble_tracing = True\n",
    "\n",
    "# 6. 获取 nonce 并创建部署交易\n",
    "# 获取下一个nonce\n",
    "deploy_nonce = vm.state.get_nonce(SENDER)\n",
    "tx_deploy = vm.create_unsigned_transaction(\n",
    "    nonce=deploy_nonce,    # 交易序号\n",
    "    gas_price=0,          # Gas 单价（单位：wei）\n",
    "    gas=3000000,          # Gas 上限\n",
    "    to=b'',               # 空地址（表示合约创建）\n",
    "    value=0,              # 转账金额（单位：wei）\n",
    "    data=bytes.fromhex(contract_bytecode),  # 合约字节码\n",
    ")\n",
    "# 进行交易签名\n",
    "signed_tx_deploy = tx_deploy.as_signed_transaction(SENDER_PRIVATE_KEY)\n",
    "\n",
    "# 7. 执行交易，获取计算结果\n",
    "# 将带有合约的交易部署到区块链上执行\n",
    "print(\"\\n=== 合约部署执行情况 ===\")\n",
    "computation = vm.state.apply_transaction(signed_tx_deploy)\n",
    "\n",
    "# 8. 打印 opcode 执行日志\n",
    "opcode_map = {v.mnemonic: k for k, v in FRONTIER_OPCODES.items()}\n",
    "\n",
    "# 9. 获取合约输出\n",
    "print(\"\\n合约执行返回的结果:\", computation._output.hex())\n",
    "\n",
    "# 10. 计算合约地址\n",
    "contract_address = compute_contract_address(SENDER, deploy_nonce)\n",
    "print(\"\\n部署成功，合约地址为：\", to_checksum_address(contract_address))\n"
   ]
  },
  {
   "cell_type": "code",
   "execution_count": 5,
   "metadata": {},
   "outputs": [
    {
     "ename": "Exception",
     "evalue": "Too many attempts at POW mining, giving up",
     "output_type": "error",
     "traceback": [
      "\u001b[1;31m---------------------------------------------------------------------------\u001b[0m",
      "\u001b[1;31mException\u001b[0m                                 Traceback (most recent call last)",
      "Cell \u001b[1;32mIn[5], line 65\u001b[0m\n\u001b[0;32m     60\u001b[0m block \u001b[38;5;241m=\u001b[39m block_result\u001b[38;5;241m.\u001b[39mblock\n\u001b[0;32m     62\u001b[0m \u001b[38;5;66;03m# based on mining_hash, block number and difficulty we can perform\u001b[39;00m\n\u001b[0;32m     63\u001b[0m \u001b[38;5;66;03m# the actual Proof of Work (PoW) mechanism to mine the correct\u001b[39;00m\n\u001b[0;32m     64\u001b[0m \u001b[38;5;66;03m# nonce and mix_hash for this block\u001b[39;00m\n\u001b[1;32m---> 65\u001b[0m nonce, mix_hash \u001b[38;5;241m=\u001b[39m \u001b[43mmine_pow_nonce\u001b[49m\u001b[43m(\u001b[49m\n\u001b[0;32m     66\u001b[0m \u001b[43m    \u001b[49m\u001b[43mblock\u001b[49m\u001b[38;5;241;43m.\u001b[39;49m\u001b[43mnumber\u001b[49m\u001b[43m,\u001b[49m\n\u001b[0;32m     67\u001b[0m \u001b[43m    \u001b[49m\u001b[43mblock\u001b[49m\u001b[38;5;241;43m.\u001b[39;49m\u001b[43mheader\u001b[49m\u001b[38;5;241;43m.\u001b[39;49m\u001b[43mmining_hash\u001b[49m\u001b[43m,\u001b[49m\n\u001b[0;32m     68\u001b[0m \u001b[43m    \u001b[49m\u001b[43mblock\u001b[49m\u001b[38;5;241;43m.\u001b[39;49m\u001b[43mheader\u001b[49m\u001b[38;5;241;43m.\u001b[39;49m\u001b[43mdifficulty\u001b[49m\u001b[43m,\u001b[49m\n\u001b[0;32m     69\u001b[0m \u001b[43m)\u001b[49m  \n\u001b[0;32m     70\u001b[0m \u001b[38;5;66;03m# (takes too long for doctest to process)\u001b[39;00m\n\u001b[0;32m     72\u001b[0m chain\u001b[38;5;241m.\u001b[39mmine_block(mix_hash\u001b[38;5;241m=\u001b[39mmix_hash, nonce\u001b[38;5;241m=\u001b[39mnonce) \n",
      "File \u001b[1;32me:\\op-evm\\.venv\\lib\\site-packages\\eth\\consensus\\pow.py:115\u001b[0m, in \u001b[0;36mmine_pow_nonce\u001b[1;34m(block_number, mining_hash, difficulty)\u001b[0m\n\u001b[0;32m    112\u001b[0m     \u001b[38;5;28;01mif\u001b[39;00m result \u001b[38;5;241m<\u001b[39m\u001b[38;5;241m=\u001b[39m result_cap:\n\u001b[0;32m    113\u001b[0m         \u001b[38;5;28;01mreturn\u001b[39;00m nonce\u001b[38;5;241m.\u001b[39mto_bytes(\u001b[38;5;241m8\u001b[39m, \u001b[38;5;124m\"\u001b[39m\u001b[38;5;124mbig\u001b[39m\u001b[38;5;124m\"\u001b[39m), mining_output[\u001b[38;5;124m\"\u001b[39m\u001b[38;5;124mmix_digest\u001b[39m\u001b[38;5;124m\"\u001b[39m]\n\u001b[1;32m--> 115\u001b[0m \u001b[38;5;28;01mraise\u001b[39;00m \u001b[38;5;167;01mException\u001b[39;00m(\u001b[38;5;124m\"\u001b[39m\u001b[38;5;124mToo many attempts at POW mining, giving up\u001b[39m\u001b[38;5;124m\"\u001b[39m)\n",
      "\u001b[1;31mException\u001b[0m: Too many attempts at POW mining, giving up"
     ]
    }
   ],
   "source": [
    "from eth_keys import keys\n",
    "from eth_utils import decode_hex\n",
    "from eth_typing import Address\n",
    "from eth import constants\n",
    "from eth.chains.base import MiningChain\n",
    "from eth.consensus.pow import mine_pow_nonce\n",
    "from eth.vm.forks.byzantium import ByzantiumVM\n",
    "from eth.db.atomic import AtomicDB\n",
    "\n",
    "\n",
    "GENESIS_PARAMS = {\n",
    "    'difficulty': 1,\n",
    "    'gas_limit': 3141592,\n",
    "    # We set the timestamp, just to make this documented example reproducible.\n",
    "    # In common usage, we remove the field to let py-evm choose a reasonable default.\n",
    "    'timestamp': 1514764800,\n",
    "}\n",
    "\n",
    "SENDER_PRIVATE_KEY = keys.PrivateKey(\n",
    "    decode_hex('0x45a915e4d060149eb4365960e6a7a45f334393093061116b197e3240065ff2d8')\n",
    ")\n",
    "\n",
    "SENDER = Address(SENDER_PRIVATE_KEY.public_key.to_canonical_address())\n",
    "\n",
    "RECEIVER = Address(b'\\0\\0\\0\\0\\0\\0\\0\\0\\0\\0\\0\\0\\0\\0\\0\\0\\0\\0\\0\\x02')\n",
    "\n",
    "klass = MiningChain.configure(\n",
    "    __name__='TestChain',\n",
    "    vm_configuration=(\n",
    "        (constants.GENESIS_BLOCK_NUMBER, ByzantiumVM),\n",
    "    ))\n",
    "\n",
    "chain = klass.from_genesis(AtomicDB(), GENESIS_PARAMS)\n",
    "genesis = chain.get_canonical_block_header_by_number(0)\n",
    "vm = chain.get_vm()\n",
    "\n",
    "nonce = vm.state.get_nonce(SENDER)\n",
    "\n",
    "tx = vm.create_unsigned_transaction(\n",
    "    nonce=nonce,\n",
    "    gas_price=0,\n",
    "    gas=100000,\n",
    "    to=RECEIVER,\n",
    "    value=0,\n",
    "    data=b'',\n",
    ")\n",
    "\n",
    "signed_tx = tx.as_signed_transaction(SENDER_PRIVATE_KEY)\n",
    "\n",
    "chain.apply_transaction(signed_tx)\n",
    "\n",
    "# Normally, we can let the timestamp be chosen automatically, but\n",
    "# for the sake of reproducing exactly the same block every time,\n",
    "# we will set it manually here:\n",
    "chain.set_header_timestamp(genesis.timestamp + 1)\n",
    "\n",
    "# We have to finalize the block first in order to be able read the\n",
    "# attributes that are important for the PoW algorithm\n",
    "block_result = chain.get_vm().finalize_block(chain.get_block())\n",
    "block = block_result.block\n",
    "\n",
    "# based on mining_hash, block number and difficulty we can perform\n",
    "# the actual Proof of Work (PoW) mechanism to mine the correct\n",
    "# nonce and mix_hash for this block\n",
    "nonce, mix_hash = mine_pow_nonce(\n",
    "    block.number,\n",
    "    block.header.mining_hash,\n",
    "    block.header.difficulty,\n",
    ")  \n",
    "# (takes too long for doctest to process)\n",
    "\n",
    "chain.mine_block(mix_hash=mix_hash, nonce=nonce) "
   ]
  },
  {
   "cell_type": "code",
   "execution_count": 40,
   "metadata": {},
   "outputs": [],
   "source": [
    "from eth.vm.forks.frontier import FrontierVM\n",
    "\n",
    "class TracingFrontierVM(FrontierVM):\n",
    "    computation_class = TracingFrontierComputation\n"
   ]
  },
  {
   "cell_type": "code",
   "execution_count": 41,
   "metadata": {},
   "outputs": [],
   "source": [
    "TestChain = MiningChain.configure(\n",
    "    __name__=\"TestChain\",\n",
    "    vm_configuration=((constants.GENESIS_BLOCK_NUMBER, TracingFrontierVM),),\n",
    ")\n"
   ]
  },
  {
   "cell_type": "code",
   "execution_count": 42,
   "metadata": {},
   "outputs": [
    {
     "ename": "ValidationError",
     "evalue": "Invalid transaction nonce: Expected 1, but got 0",
     "output_type": "error",
     "traceback": [
      "\u001b[1;31m---------------------------------------------------------------------------\u001b[0m",
      "\u001b[1;31mValidationError\u001b[0m                           Traceback (most recent call last)",
      "Cell \u001b[1;32mIn[42], line 2\u001b[0m\n\u001b[0;32m      1\u001b[0m \u001b[38;5;66;03m# 执行交易，获取计算结果\u001b[39;00m\n\u001b[1;32m----> 2\u001b[0m computation \u001b[38;5;241m=\u001b[39m \u001b[43mvm\u001b[49m\u001b[38;5;241;43m.\u001b[39;49m\u001b[43mstate\u001b[49m\u001b[38;5;241;43m.\u001b[39;49m\u001b[43mapply_transaction\u001b[49m\u001b[43m(\u001b[49m\u001b[43msigned_tx_deploy\u001b[49m\u001b[43m)\u001b[49m\n\u001b[0;32m      4\u001b[0m \u001b[38;5;66;03m# 输出追踪日志\u001b[39;00m\n\u001b[0;32m      5\u001b[0m \u001b[38;5;28mprint\u001b[39m(\u001b[38;5;124m\"\u001b[39m\u001b[38;5;130;01m\\n\u001b[39;00m\u001b[38;5;124m=== 合约执行 trace ===\u001b[39m\u001b[38;5;124m\"\u001b[39m)\n",
      "File \u001b[1;32mc:\\Users\\17134\\AppData\\Local\\Programs\\Python\\Python310\\lib\\site-packages\\eth\\vm\\forks\\frontier\\state.py:223\u001b[0m, in \u001b[0;36mFrontierState.apply_transaction\u001b[1;34m(self, transaction)\u001b[0m\n\u001b[0;32m    221\u001b[0m \u001b[38;5;28;01mdef\u001b[39;00m \u001b[38;5;21mapply_transaction\u001b[39m(\u001b[38;5;28mself\u001b[39m, transaction: SignedTransactionAPI) \u001b[38;5;241m-\u001b[39m\u001b[38;5;241m>\u001b[39m ComputationAPI:\n\u001b[0;32m    222\u001b[0m     executor \u001b[38;5;241m=\u001b[39m \u001b[38;5;28mself\u001b[39m\u001b[38;5;241m.\u001b[39mget_transaction_executor()\n\u001b[1;32m--> 223\u001b[0m     \u001b[38;5;28;01mreturn\u001b[39;00m \u001b[43mexecutor\u001b[49m\u001b[43m(\u001b[49m\u001b[43mtransaction\u001b[49m\u001b[43m)\u001b[49m\n",
      "File \u001b[1;32mc:\\Users\\17134\\AppData\\Local\\Programs\\Python\\Python310\\lib\\site-packages\\eth\\vm\\state.py:343\u001b[0m, in \u001b[0;36mBaseTransactionExecutor.__call__\u001b[1;34m(self, transaction)\u001b[0m\n\u001b[0;32m    342\u001b[0m \u001b[38;5;28;01mdef\u001b[39;00m \u001b[38;5;21m__call__\u001b[39m(\u001b[38;5;28mself\u001b[39m, transaction: SignedTransactionAPI) \u001b[38;5;241m-\u001b[39m\u001b[38;5;241m>\u001b[39m ComputationAPI:\n\u001b[1;32m--> 343\u001b[0m     \u001b[38;5;28;43mself\u001b[39;49m\u001b[38;5;241;43m.\u001b[39;49m\u001b[43mvalidate_transaction\u001b[49m\u001b[43m(\u001b[49m\u001b[43mtransaction\u001b[49m\u001b[43m)\u001b[49m\n\u001b[0;32m    344\u001b[0m     message \u001b[38;5;241m=\u001b[39m \u001b[38;5;28mself\u001b[39m\u001b[38;5;241m.\u001b[39mbuild_evm_message(transaction)\n\u001b[0;32m    345\u001b[0m     computation \u001b[38;5;241m=\u001b[39m \u001b[38;5;28mself\u001b[39m\u001b[38;5;241m.\u001b[39mbuild_computation(message, transaction)\n",
      "File \u001b[1;32mc:\\Users\\17134\\AppData\\Local\\Programs\\Python\\Python310\\lib\\site-packages\\eth\\vm\\forks\\frontier\\state.py:65\u001b[0m, in \u001b[0;36mFrontierTransactionExecutor.validate_transaction\u001b[1;34m(self, transaction)\u001b[0m\n\u001b[0;32m     62\u001b[0m \u001b[38;5;28;01mdef\u001b[39;00m \u001b[38;5;21mvalidate_transaction\u001b[39m(\u001b[38;5;28mself\u001b[39m, transaction: SignedTransactionAPI) \u001b[38;5;241m-\u001b[39m\u001b[38;5;241m>\u001b[39m \u001b[38;5;28;01mNone\u001b[39;00m:\n\u001b[0;32m     63\u001b[0m     \u001b[38;5;66;03m# Validate the transaction\u001b[39;00m\n\u001b[0;32m     64\u001b[0m     transaction\u001b[38;5;241m.\u001b[39mvalidate()\n\u001b[1;32m---> 65\u001b[0m     \u001b[38;5;28;43mself\u001b[39;49m\u001b[38;5;241;43m.\u001b[39;49m\u001b[43mvm_state\u001b[49m\u001b[38;5;241;43m.\u001b[39;49m\u001b[43mvalidate_transaction\u001b[49m\u001b[43m(\u001b[49m\u001b[43mtransaction\u001b[49m\u001b[43m)\u001b[49m\n",
      "File \u001b[1;32mc:\\Users\\17134\\AppData\\Local\\Programs\\Python\\Python310\\lib\\site-packages\\eth\\vm\\forks\\frontier\\state.py:226\u001b[0m, in \u001b[0;36mFrontierState.validate_transaction\u001b[1;34m(self, transaction)\u001b[0m\n\u001b[0;32m    225\u001b[0m \u001b[38;5;28;01mdef\u001b[39;00m \u001b[38;5;21mvalidate_transaction\u001b[39m(\u001b[38;5;28mself\u001b[39m, transaction: SignedTransactionAPI) \u001b[38;5;241m-\u001b[39m\u001b[38;5;241m>\u001b[39m \u001b[38;5;28;01mNone\u001b[39;00m:\n\u001b[1;32m--> 226\u001b[0m     \u001b[43mvalidate_frontier_transaction\u001b[49m\u001b[43m(\u001b[49m\u001b[38;5;28;43mself\u001b[39;49m\u001b[43m,\u001b[49m\u001b[43m \u001b[49m\u001b[43mtransaction\u001b[49m\u001b[43m)\u001b[49m\n",
      "File \u001b[1;32mc:\\Users\\17134\\AppData\\Local\\Programs\\Python\\Python310\\lib\\site-packages\\eth\\vm\\forks\\frontier\\validation.py:35\u001b[0m, in \u001b[0;36mvalidate_frontier_transaction\u001b[1;34m(state, transaction)\u001b[0m\n\u001b[0;32m     33\u001b[0m sender_nonce \u001b[38;5;241m=\u001b[39m state\u001b[38;5;241m.\u001b[39mget_nonce(transaction\u001b[38;5;241m.\u001b[39msender)\n\u001b[0;32m     34\u001b[0m \u001b[38;5;28;01mif\u001b[39;00m sender_nonce \u001b[38;5;241m!=\u001b[39m transaction\u001b[38;5;241m.\u001b[39mnonce:\n\u001b[1;32m---> 35\u001b[0m     \u001b[38;5;28;01mraise\u001b[39;00m ValidationError(\n\u001b[0;32m     36\u001b[0m         \u001b[38;5;124mf\u001b[39m\u001b[38;5;124m\"\u001b[39m\u001b[38;5;124mInvalid transaction nonce: Expected \u001b[39m\u001b[38;5;132;01m{\u001b[39;00msender_nonce\u001b[38;5;132;01m}\u001b[39;00m\u001b[38;5;124m, \u001b[39m\u001b[38;5;124m\"\u001b[39m\n\u001b[0;32m     37\u001b[0m         \u001b[38;5;124mf\u001b[39m\u001b[38;5;124m\"\u001b[39m\u001b[38;5;124mbut got \u001b[39m\u001b[38;5;132;01m{\u001b[39;00mtransaction\u001b[38;5;241m.\u001b[39mnonce\u001b[38;5;132;01m}\u001b[39;00m\u001b[38;5;124m\"\u001b[39m\n\u001b[0;32m     38\u001b[0m     )\n",
      "\u001b[1;31mValidationError\u001b[0m: Invalid transaction nonce: Expected 1, but got 0"
     ]
    }
   ],
   "source": [
    "# 执行交易，获取计算结果\n",
    "computation = vm.state.apply_transaction(signed_tx_deploy)\n",
    "\n",
    "# 输出追踪日志\n",
    "print(\"\\n=== 合约执行 trace ===\")\n",
    "for step in computation.trace:\n",
    "    print(f\"PC: {step['pc']}, Opcode: {step['mnemonic']} (0x{step['opcode']:02x}), \"\n",
    "          f\"Stack: {step['stack']}, Memory (len): {len(step['memory'])}, Gas Left: {step['gas_left']}\")\n"
   ]
  }
 ],
 "metadata": {
  "kernelspec": {
   "display_name": ".venv",
   "language": "python",
   "name": "python3"
  },
  "language_info": {
   "codemirror_mode": {
    "name": "ipython",
    "version": 3
   },
   "file_extension": ".py",
   "mimetype": "text/x-python",
   "name": "python",
   "nbconvert_exporter": "python",
   "pygments_lexer": "ipython3",
   "version": "3.10.10"
  }
 },
 "nbformat": 4,
 "nbformat_minor": 2
}
